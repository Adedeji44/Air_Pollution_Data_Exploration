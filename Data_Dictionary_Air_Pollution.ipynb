{
 "cells": [
  {
   "cell_type": "markdown",
   "id": "3a5ffe93",
   "metadata": {},
   "source": [
    "## Data_Dictionary_Air_Pollution\n",
    "\n",
    "- This dataset contains about 13 months of data on major pollutants and meteorological levels of a city.\n",
    "\n",
    "- The data shows average readings for Nitric Oxide(NO), Nitrogen Dioxide(NO2), Oxides of Nitrogen, Ozone, Particulate Matter (PM10 and PM2.5), Sulphur Dioxide, Benzene, Toulene, and P_Xylene. Measured in Micrograms per Cubic Meter of Air (ug/m3). Also shows few generic features WindSpeed, VerticalWindSpeed, BarPressure, Weather,Temp, and WindDirection.\n",
    "\n",
    "- The PD denotes the Previous Day. In this dataset, we have 5 columns that are Previous Date values of correponsing columns in the dataset. They are PD_PM10, PD_NO2, PD_SO2, PD_CO, PD_PM2.5.\n",
    "\n",
    "- The Date is the feature at which the data was recorded."
   ]
  },
  {
   "cell_type": "code",
   "execution_count": null,
   "id": "f0723ba0",
   "metadata": {},
   "outputs": [],
   "source": []
  }
 ],
 "metadata": {
  "kernelspec": {
   "display_name": "Python 3 (ipykernel)",
   "language": "python",
   "name": "python3"
  },
  "language_info": {
   "codemirror_mode": {
    "name": "ipython",
    "version": 3
   },
   "file_extension": ".py",
   "mimetype": "text/x-python",
   "name": "python",
   "nbconvert_exporter": "python",
   "pygments_lexer": "ipython3",
   "version": "3.9.12"
  }
 },
 "nbformat": 4,
 "nbformat_minor": 5
}
